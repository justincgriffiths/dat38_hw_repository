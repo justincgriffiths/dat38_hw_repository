{
 "cells": [
  {
   "cell_type": "code",
   "execution_count": 1,
   "metadata": {
    "collapsed": true
   },
   "outputs": [],
   "source": [
    "%matplotlib inline\n",
    "import numpy as np\n",
    "import pandas as pd\n",
    "pd.set_option('display.float_format', lambda x: '{:.2f}'.format(x))\n",
    "% precision 2\n",
    "from matplotlib import pyplot as plt\n",
    "plt.style.use('ggplot')\n",
    "import seaborn as sns\n",
    "import statsmodels.api as sm"
   ]
  },
  {
   "cell_type": "markdown",
   "metadata": {},
   "source": [
    "## Exploratory Analysis & Notebook Building"
   ]
  },
  {
   "cell_type": "markdown",
   "metadata": {},
   "source": [
    "#### References for Data"
   ]
  },
  {
   "cell_type": "markdown",
   "metadata": {},
   "source": [
    "    HHI Data - http://www.psc.isr.umich.edu/dis/census/Features/tract2zip/\n",
    "    Population Density Data - https://blog.splitwise.com/2014/01/06/free-us-population-density-and-unemployment-rate-by-zip-code/"
   ]
  },
  {
   "cell_type": "markdown",
   "metadata": {},
   "source": [
    "### Data Dictionary"
   ]
  },
  {
   "cell_type": "markdown",
   "metadata": {},
   "source": [
    "#### Import Data"
   ]
  },
  {
   "cell_type": "code",
   "execution_count": 2,
   "metadata": {
    "collapsed": false
   },
   "outputs": [],
   "source": [
    "cd = pd.read_csv('../Final/clv_validation_data_2016-08-26.csv', sep = ';')\n",
    "hhi = pd.read_csv('../Final/hhi-by-zip.csv', sep = ',')\n",
    "pden = pd.read_csv('../Final/pop-density-2010.csv', sep = ',')\n",
    "cud = pd.read_csv('../Final/cud_2016-08-29.csv', sep = ';')\n",
    "lud = pd.read_csv('../Final/lud_2016-08-29.csv', sep = ';')\n",
    "fp = pd.read_csv('../Final/mp_clv_2016-08-17.csv', sep = ';')"
   ]
  },
  {
   "cell_type": "markdown",
   "metadata": {},
   "source": [
    "## Feature Creation\n",
    "#### Format Zip Codes & Dates"
   ]
  },
  {
   "cell_type": "code",
   "execution_count": 3,
   "metadata": {
    "collapsed": true
   },
   "outputs": [],
   "source": [
    "#Formatting Zip Codes\n",
    "pden['Zip/ZCTA'] = pden['Zip/ZCTA'].astype(str).str.zfill(5)\n",
    "hhi['Zip'] = hhi['Zip'].astype(str).str.zfill(5)\n",
    "cd['zip_code5'] = cd['zip_code5'].astype(str).str.zfill(5)\n",
    "lud['default_shipping_zip'] = lud['default_shipping_zip'].astype(str).str.zfill(5)\n",
    "\n",
    "# Formatting Dates\n",
    "cd_dt = ['first_trans_date','checkout_date','cancellation_date','estimated_ship_date']\n",
    "cud_dt = ['first_trans_date','last_trans_date','sign_up_date']\n",
    "\n",
    "for i in cd_dt:\n",
    "    cd[i] = pd.to_datetime(cd[i])\n",
    "\n",
    "for i in cud_dt:\n",
    "    cud[i] = pd.to_datetime(cud[i]) \n",
    "\n"
   ]
  },
  {
   "cell_type": "markdown",
   "metadata": {},
   "source": [
    "#### Drop Redundant and Unnecessary Data "
   ]
  },
  {
   "cell_type": "code",
   "execution_count": 4,
   "metadata": {
    "collapsed": false
   },
   "outputs": [],
   "source": [
    "cd = cd.drop(labels = ['shipment_id','warehouse_order_id','product_title'], axis = 1)\n",
    "lud = lud.drop(labels = ['clv_profit_10_year','custora_churn_risk','is_purchaser','next_scheduled_order',], axis = 1)\n",
    "hhi.columns = ['Zip','Median-HHI','Mean-HHI','Pop']\n",
    "hhi = hhi.drop('Pop', axis =1)\n",
    "pden = pden.drop(['2010 Population','Land-Sq-Mi'],1)\n"
   ]
  },
  {
   "cell_type": "code",
   "execution_count": 5,
   "metadata": {
    "collapsed": false
   },
   "outputs": [],
   "source": [
    "df = pd.merge(left = cd, right = hhi, how = 'left', left_on = 'zip_code5', right_on = 'Zip')\n",
    "df = pd.merge(left = df, right = pden, how = 'left', left_on = 'zip_code5', right_on = 'Zip/ZCTA')\n",
    "df = pd.merge(left = df, right = cud, how = 'left', left_on = 'user_id', right_on = 'user_id')\n",
    "df = pd.merge(left = df, right = lud, how = 'left', left_on = 'user_id', right_on = 'user_id')\n",
    "df = df.drop(labels = ['Zip/ZCTA','Zip'], axis = 1)\n"
   ]
  },
  {
   "cell_type": "code",
   "execution_count": 6,
   "metadata": {
    "collapsed": false
   },
   "outputs": [
    {
     "data": {
      "text/html": [
       "<div>\n",
       "<table border=\"1\" class=\"dataframe\">\n",
       "  <thead>\n",
       "    <tr style=\"text-align: right;\">\n",
       "      <th></th>\n",
       "      <th>user_id</th>\n",
       "      <th>program_id</th>\n",
       "      <th>shipped_orders</th>\n",
       "      <th>order_id</th>\n",
       "      <th>quantity</th>\n",
       "      <th>order_revenue</th>\n",
       "      <th>discount_amount</th>\n",
       "      <th>cogs</th>\n",
       "      <th>overhead</th>\n",
       "      <th>clv_profit_1_year_x</th>\n",
       "      <th>...</th>\n",
       "      <th>clv_profit_2_year</th>\n",
       "      <th>clv_profit_3_year</th>\n",
       "      <th>clv_profit_10_year_y</th>\n",
       "      <th>profit_next_1_year</th>\n",
       "      <th>profit_next_2_year</th>\n",
       "      <th>profit_next_3_year</th>\n",
       "      <th>profit_next_10_year</th>\n",
       "      <th>action_by</th>\n",
       "      <th>credit_balance</th>\n",
       "      <th>default_shipping_days_in_transit</th>\n",
       "    </tr>\n",
       "  </thead>\n",
       "  <tbody>\n",
       "    <tr>\n",
       "      <th>count</th>\n",
       "      <td>405133.00</td>\n",
       "      <td>405133.00</td>\n",
       "      <td>405133.00</td>\n",
       "      <td>405133.00</td>\n",
       "      <td>405133.00</td>\n",
       "      <td>405133.00</td>\n",
       "      <td>173018.00</td>\n",
       "      <td>405133.00</td>\n",
       "      <td>400008.00</td>\n",
       "      <td>405004.00</td>\n",
       "      <td>...</td>\n",
       "      <td>405004.00</td>\n",
       "      <td>405004.00</td>\n",
       "      <td>405004.00</td>\n",
       "      <td>405133.00</td>\n",
       "      <td>405133.00</td>\n",
       "      <td>405133.00</td>\n",
       "      <td>405133.00</td>\n",
       "      <td>405133.00</td>\n",
       "      <td>62557.00</td>\n",
       "      <td>401157.00</td>\n",
       "    </tr>\n",
       "    <tr>\n",
       "      <th>mean</th>\n",
       "      <td>580410.49</td>\n",
       "      <td>31200774.48</td>\n",
       "      <td>1.84</td>\n",
       "      <td>2987126.99</td>\n",
       "      <td>5.37</td>\n",
       "      <td>86.82</td>\n",
       "      <td>-14.63</td>\n",
       "      <td>-58.37</td>\n",
       "      <td>-18.49</td>\n",
       "      <td>713.28</td>\n",
       "      <td>...</td>\n",
       "      <td>1457.44</td>\n",
       "      <td>2027.12</td>\n",
       "      <td>4243.53</td>\n",
       "      <td>596.54</td>\n",
       "      <td>1065.82</td>\n",
       "      <td>1458.71</td>\n",
       "      <td>3281.06</td>\n",
       "      <td>0.00</td>\n",
       "      <td>8.13</td>\n",
       "      <td>1.94</td>\n",
       "    </tr>\n",
       "    <tr>\n",
       "      <th>std</th>\n",
       "      <td>103930.59</td>\n",
       "      <td>201389.27</td>\n",
       "      <td>3.45</td>\n",
       "      <td>583726.85</td>\n",
       "      <td>9.97</td>\n",
       "      <td>71.55</td>\n",
       "      <td>13.29</td>\n",
       "      <td>50.34</td>\n",
       "      <td>8.39</td>\n",
       "      <td>4103.47</td>\n",
       "      <td>...</td>\n",
       "      <td>8535.03</td>\n",
       "      <td>11942.74</td>\n",
       "      <td>25187.45</td>\n",
       "      <td>3579.90</td>\n",
       "      <td>6392.00</td>\n",
       "      <td>8744.12</td>\n",
       "      <td>19636.35</td>\n",
       "      <td>0.00</td>\n",
       "      <td>159.31</td>\n",
       "      <td>0.84</td>\n",
       "    </tr>\n",
       "    <tr>\n",
       "      <th>min</th>\n",
       "      <td>326.00</td>\n",
       "      <td>30665814.00</td>\n",
       "      <td>1.00</td>\n",
       "      <td>1479853.00</td>\n",
       "      <td>1.00</td>\n",
       "      <td>0.08</td>\n",
       "      <td>-666.78</td>\n",
       "      <td>-3247.88</td>\n",
       "      <td>-294.24</td>\n",
       "      <td>-1473.52</td>\n",
       "      <td>...</td>\n",
       "      <td>-2474.92</td>\n",
       "      <td>-3644.42</td>\n",
       "      <td>-8188.08</td>\n",
       "      <td>-1034.73</td>\n",
       "      <td>-1889.25</td>\n",
       "      <td>-2624.83</td>\n",
       "      <td>-6181.97</td>\n",
       "      <td>0.00</td>\n",
       "      <td>-14.92</td>\n",
       "      <td>1.00</td>\n",
       "    </tr>\n",
       "    <tr>\n",
       "      <th>25%</th>\n",
       "      <td>510718.00</td>\n",
       "      <td>31036109.00</td>\n",
       "      <td>1.00</td>\n",
       "      <td>2509219.00</td>\n",
       "      <td>1.00</td>\n",
       "      <td>46.36</td>\n",
       "      <td>-18.33</td>\n",
       "      <td>-73.12</td>\n",
       "      <td>-20.58</td>\n",
       "      <td>4.75</td>\n",
       "      <td>...</td>\n",
       "      <td>6.34</td>\n",
       "      <td>6.92</td>\n",
       "      <td>8.22</td>\n",
       "      <td>0.06</td>\n",
       "      <td>0.10</td>\n",
       "      <td>0.14</td>\n",
       "      <td>0.33</td>\n",
       "      <td>0.00</td>\n",
       "      <td>0.00</td>\n",
       "      <td>1.00</td>\n",
       "    </tr>\n",
       "    <tr>\n",
       "      <th>50%</th>\n",
       "      <td>584602.00</td>\n",
       "      <td>31191722.00</td>\n",
       "      <td>1.00</td>\n",
       "      <td>2905938.00</td>\n",
       "      <td>2.00</td>\n",
       "      <td>68.97</td>\n",
       "      <td>-10.80</td>\n",
       "      <td>-46.56</td>\n",
       "      <td>-15.78</td>\n",
       "      <td>28.97</td>\n",
       "      <td>...</td>\n",
       "      <td>41.24</td>\n",
       "      <td>47.84</td>\n",
       "      <td>66.27</td>\n",
       "      <td>1.95</td>\n",
       "      <td>3.52</td>\n",
       "      <td>4.85</td>\n",
       "      <td>11.09</td>\n",
       "      <td>0.00</td>\n",
       "      <td>0.00</td>\n",
       "      <td>2.00</td>\n",
       "    </tr>\n",
       "    <tr>\n",
       "      <th>75%</th>\n",
       "      <td>658651.00</td>\n",
       "      <td>31343499.00</td>\n",
       "      <td>1.00</td>\n",
       "      <td>3387623.00</td>\n",
       "      <td>5.00</td>\n",
       "      <td>107.98</td>\n",
       "      <td>-5.95</td>\n",
       "      <td>-28.80</td>\n",
       "      <td>-13.34</td>\n",
       "      <td>96.00</td>\n",
       "      <td>...</td>\n",
       "      <td>160.24</td>\n",
       "      <td>205.00</td>\n",
       "      <td>377.33</td>\n",
       "      <td>45.33</td>\n",
       "      <td>81.44</td>\n",
       "      <td>111.91</td>\n",
       "      <td>256.21</td>\n",
       "      <td>0.00</td>\n",
       "      <td>0.00</td>\n",
       "      <td>3.00</td>\n",
       "    </tr>\n",
       "    <tr>\n",
       "      <th>max</th>\n",
       "      <td>743701.00</td>\n",
       "      <td>31636119.00</td>\n",
       "      <td>100.00</td>\n",
       "      <td>4357557.00</td>\n",
       "      <td>365.00</td>\n",
       "      <td>4746.40</td>\n",
       "      <td>-0.01</td>\n",
       "      <td>-0.50</td>\n",
       "      <td>-3.88</td>\n",
       "      <td>26912.44</td>\n",
       "      <td>...</td>\n",
       "      <td>55962.85</td>\n",
       "      <td>78312.61</td>\n",
       "      <td>165160.38</td>\n",
       "      <td>23473.16</td>\n",
       "      <td>41912.50</td>\n",
       "      <td>57335.92</td>\n",
       "      <td>128760.82</td>\n",
       "      <td>0.00</td>\n",
       "      <td>4687.48</td>\n",
       "      <td>5.00</td>\n",
       "    </tr>\n",
       "  </tbody>\n",
       "</table>\n",
       "<p>8 rows × 51 columns</p>\n",
       "</div>"
      ],
      "text/plain": [
       "        user_id  program_id  shipped_orders   order_id  quantity  \\\n",
       "count 405133.00   405133.00       405133.00  405133.00 405133.00   \n",
       "mean  580410.49 31200774.48            1.84 2987126.99      5.37   \n",
       "std   103930.59   201389.27            3.45  583726.85      9.97   \n",
       "min      326.00 30665814.00            1.00 1479853.00      1.00   \n",
       "25%   510718.00 31036109.00            1.00 2509219.00      1.00   \n",
       "50%   584602.00 31191722.00            1.00 2905938.00      2.00   \n",
       "75%   658651.00 31343499.00            1.00 3387623.00      5.00   \n",
       "max   743701.00 31636119.00          100.00 4357557.00    365.00   \n",
       "\n",
       "       order_revenue  discount_amount      cogs  overhead  \\\n",
       "count      405133.00        173018.00 405133.00 400008.00   \n",
       "mean           86.82           -14.63    -58.37    -18.49   \n",
       "std            71.55            13.29     50.34      8.39   \n",
       "min             0.08          -666.78  -3247.88   -294.24   \n",
       "25%            46.36           -18.33    -73.12    -20.58   \n",
       "50%            68.97           -10.80    -46.56    -15.78   \n",
       "75%           107.98            -5.95    -28.80    -13.34   \n",
       "max          4746.40            -0.01     -0.50     -3.88   \n",
       "\n",
       "       clv_profit_1_year_x                ...                 \\\n",
       "count            405004.00                ...                  \n",
       "mean                713.28                ...                  \n",
       "std                4103.47                ...                  \n",
       "min               -1473.52                ...                  \n",
       "25%                   4.75                ...                  \n",
       "50%                  28.97                ...                  \n",
       "75%                  96.00                ...                  \n",
       "max               26912.44                ...                  \n",
       "\n",
       "       clv_profit_2_year  clv_profit_3_year  clv_profit_10_year_y  \\\n",
       "count          405004.00          405004.00             405004.00   \n",
       "mean             1457.44            2027.12               4243.53   \n",
       "std              8535.03           11942.74              25187.45   \n",
       "min             -2474.92           -3644.42              -8188.08   \n",
       "25%                 6.34               6.92                  8.22   \n",
       "50%                41.24              47.84                 66.27   \n",
       "75%               160.24             205.00                377.33   \n",
       "max             55962.85           78312.61             165160.38   \n",
       "\n",
       "       profit_next_1_year  profit_next_2_year  profit_next_3_year  \\\n",
       "count           405133.00           405133.00           405133.00   \n",
       "mean               596.54             1065.82             1458.71   \n",
       "std               3579.90             6392.00             8744.12   \n",
       "min              -1034.73            -1889.25            -2624.83   \n",
       "25%                  0.06                0.10                0.14   \n",
       "50%                  1.95                3.52                4.85   \n",
       "75%                 45.33               81.44              111.91   \n",
       "max              23473.16            41912.50            57335.92   \n",
       "\n",
       "       profit_next_10_year  action_by  credit_balance  \\\n",
       "count            405133.00  405133.00        62557.00   \n",
       "mean               3281.06       0.00            8.13   \n",
       "std               19636.35       0.00          159.31   \n",
       "min               -6181.97       0.00          -14.92   \n",
       "25%                   0.33       0.00            0.00   \n",
       "50%                  11.09       0.00            0.00   \n",
       "75%                 256.21       0.00            0.00   \n",
       "max              128760.82       0.00         4687.48   \n",
       "\n",
       "       default_shipping_days_in_transit  \n",
       "count                         401157.00  \n",
       "mean                               1.94  \n",
       "std                                0.84  \n",
       "min                                1.00  \n",
       "25%                                1.00  \n",
       "50%                                2.00  \n",
       "75%                                3.00  \n",
       "max                                5.00  \n",
       "\n",
       "[8 rows x 51 columns]"
      ]
     },
     "execution_count": 6,
     "metadata": {},
     "output_type": "execute_result"
    }
   ],
   "source": [
    "df.describe()"
   ]
  },
  {
   "cell_type": "code",
   "execution_count": 7,
   "metadata": {
    "collapsed": false
   },
   "outputs": [
    {
     "data": {
      "text/html": [
       "<div>\n",
       "<table border=\"1\" class=\"dataframe\">\n",
       "  <thead>\n",
       "    <tr style=\"text-align: right;\">\n",
       "      <th></th>\n",
       "      <th>user_id</th>\n",
       "      <th>program_id</th>\n",
       "      <th>shipped_orders</th>\n",
       "      <th>order_id</th>\n",
       "      <th>quantity</th>\n",
       "      <th>order_revenue</th>\n",
       "      <th>discount_amount</th>\n",
       "      <th>cogs</th>\n",
       "      <th>overhead</th>\n",
       "      <th>clv_profit_1_year_x</th>\n",
       "      <th>...</th>\n",
       "      <th>clv_profit_2_year</th>\n",
       "      <th>clv_profit_3_year</th>\n",
       "      <th>clv_profit_10_year_y</th>\n",
       "      <th>profit_next_1_year</th>\n",
       "      <th>profit_next_2_year</th>\n",
       "      <th>profit_next_3_year</th>\n",
       "      <th>profit_next_10_year</th>\n",
       "      <th>action_by</th>\n",
       "      <th>credit_balance</th>\n",
       "      <th>default_shipping_days_in_transit</th>\n",
       "    </tr>\n",
       "  </thead>\n",
       "  <tbody>\n",
       "    <tr>\n",
       "      <th>count</th>\n",
       "      <td>167951.00</td>\n",
       "      <td>167951.00</td>\n",
       "      <td>167951.00</td>\n",
       "      <td>167951.00</td>\n",
       "      <td>167951.00</td>\n",
       "      <td>167951.00</td>\n",
       "      <td>84916.00</td>\n",
       "      <td>167951.00</td>\n",
       "      <td>164930.00</td>\n",
       "      <td>167824.00</td>\n",
       "      <td>...</td>\n",
       "      <td>167824.00</td>\n",
       "      <td>167824.00</td>\n",
       "      <td>167824.00</td>\n",
       "      <td>167951.00</td>\n",
       "      <td>167951.00</td>\n",
       "      <td>167951.00</td>\n",
       "      <td>167951.00</td>\n",
       "      <td>167951.00</td>\n",
       "      <td>11593.00</td>\n",
       "      <td>166236.00</td>\n",
       "    </tr>\n",
       "    <tr>\n",
       "      <th>mean</th>\n",
       "      <td>583968.44</td>\n",
       "      <td>31077299.53</td>\n",
       "      <td>2.09</td>\n",
       "      <td>2629553.45</td>\n",
       "      <td>4.83</td>\n",
       "      <td>79.55</td>\n",
       "      <td>-14.10</td>\n",
       "      <td>-53.33</td>\n",
       "      <td>-17.59</td>\n",
       "      <td>34.29</td>\n",
       "      <td>...</td>\n",
       "      <td>52.60</td>\n",
       "      <td>66.73</td>\n",
       "      <td>124.87</td>\n",
       "      <td>14.50</td>\n",
       "      <td>26.29</td>\n",
       "      <td>36.38</td>\n",
       "      <td>84.84</td>\n",
       "      <td>0.00</td>\n",
       "      <td>4.33</td>\n",
       "      <td>2.01</td>\n",
       "    </tr>\n",
       "    <tr>\n",
       "      <th>std</th>\n",
       "      <td>103588.66</td>\n",
       "      <td>141091.36</td>\n",
       "      <td>4.05</td>\n",
       "      <td>373400.52</td>\n",
       "      <td>8.99</td>\n",
       "      <td>65.95</td>\n",
       "      <td>13.32</td>\n",
       "      <td>47.65</td>\n",
       "      <td>7.72</td>\n",
       "      <td>114.61</td>\n",
       "      <td>...</td>\n",
       "      <td>208.30</td>\n",
       "      <td>280.74</td>\n",
       "      <td>582.30</td>\n",
       "      <td>79.55</td>\n",
       "      <td>143.12</td>\n",
       "      <td>196.93</td>\n",
       "      <td>451.57</td>\n",
       "      <td>0.00</td>\n",
       "      <td>46.02</td>\n",
       "      <td>0.83</td>\n",
       "    </tr>\n",
       "    <tr>\n",
       "      <th>min</th>\n",
       "      <td>326.00</td>\n",
       "      <td>30665814.00</td>\n",
       "      <td>1.00</td>\n",
       "      <td>1479853.00</td>\n",
       "      <td>1.00</td>\n",
       "      <td>0.99</td>\n",
       "      <td>-553.89</td>\n",
       "      <td>-1616.88</td>\n",
       "      <td>-294.24</td>\n",
       "      <td>-1473.52</td>\n",
       "      <td>...</td>\n",
       "      <td>-2474.92</td>\n",
       "      <td>-3644.42</td>\n",
       "      <td>-8188.08</td>\n",
       "      <td>-1034.73</td>\n",
       "      <td>-1889.25</td>\n",
       "      <td>-2624.83</td>\n",
       "      <td>-6181.97</td>\n",
       "      <td>0.00</td>\n",
       "      <td>-14.92</td>\n",
       "      <td>1.00</td>\n",
       "    </tr>\n",
       "    <tr>\n",
       "      <th>25%</th>\n",
       "      <td>516345.50</td>\n",
       "      <td>30958934.50</td>\n",
       "      <td>1.00</td>\n",
       "      <td>2320212.50</td>\n",
       "      <td>1.00</td>\n",
       "      <td>35.98</td>\n",
       "      <td>-17.39</td>\n",
       "      <td>-67.80</td>\n",
       "      <td>-18.28</td>\n",
       "      <td>1.09</td>\n",
       "      <td>...</td>\n",
       "      <td>1.40</td>\n",
       "      <td>1.56</td>\n",
       "      <td>2.10</td>\n",
       "      <td>0.02</td>\n",
       "      <td>0.03</td>\n",
       "      <td>0.05</td>\n",
       "      <td>0.11</td>\n",
       "      <td>0.00</td>\n",
       "      <td>0.00</td>\n",
       "      <td>1.00</td>\n",
       "    </tr>\n",
       "    <tr>\n",
       "      <th>50%</th>\n",
       "      <td>588120.00</td>\n",
       "      <td>31067309.00</td>\n",
       "      <td>1.00</td>\n",
       "      <td>2586982.00</td>\n",
       "      <td>2.00</td>\n",
       "      <td>63.48</td>\n",
       "      <td>-10.30</td>\n",
       "      <td>-42.40</td>\n",
       "      <td>-13.84</td>\n",
       "      <td>9.78</td>\n",
       "      <td>...</td>\n",
       "      <td>10.68</td>\n",
       "      <td>11.18</td>\n",
       "      <td>12.59</td>\n",
       "      <td>0.16</td>\n",
       "      <td>0.29</td>\n",
       "      <td>0.39</td>\n",
       "      <td>0.90</td>\n",
       "      <td>0.00</td>\n",
       "      <td>0.00</td>\n",
       "      <td>2.00</td>\n",
       "    </tr>\n",
       "    <tr>\n",
       "      <th>75%</th>\n",
       "      <td>663581.00</td>\n",
       "      <td>31183371.00</td>\n",
       "      <td>1.00</td>\n",
       "      <td>2881227.00</td>\n",
       "      <td>4.00</td>\n",
       "      <td>99.94</td>\n",
       "      <td>-5.95</td>\n",
       "      <td>-22.30</td>\n",
       "      <td>-13.16</td>\n",
       "      <td>33.12</td>\n",
       "      <td>...</td>\n",
       "      <td>40.76</td>\n",
       "      <td>45.21</td>\n",
       "      <td>58.44</td>\n",
       "      <td>1.82</td>\n",
       "      <td>3.29</td>\n",
       "      <td>4.55</td>\n",
       "      <td>10.45</td>\n",
       "      <td>0.00</td>\n",
       "      <td>0.00</td>\n",
       "      <td>3.00</td>\n",
       "    </tr>\n",
       "    <tr>\n",
       "      <th>max</th>\n",
       "      <td>743701.00</td>\n",
       "      <td>31358981.00</td>\n",
       "      <td>100.00</td>\n",
       "      <td>3437050.00</td>\n",
       "      <td>290.00</td>\n",
       "      <td>2213.58</td>\n",
       "      <td>-0.10</td>\n",
       "      <td>-0.54</td>\n",
       "      <td>-3.88</td>\n",
       "      <td>26912.44</td>\n",
       "      <td>...</td>\n",
       "      <td>55962.85</td>\n",
       "      <td>78312.61</td>\n",
       "      <td>165160.38</td>\n",
       "      <td>23473.16</td>\n",
       "      <td>41912.50</td>\n",
       "      <td>57335.92</td>\n",
       "      <td>128760.82</td>\n",
       "      <td>0.00</td>\n",
       "      <td>4687.48</td>\n",
       "      <td>5.00</td>\n",
       "    </tr>\n",
       "  </tbody>\n",
       "</table>\n",
       "<p>8 rows × 51 columns</p>\n",
       "</div>"
      ],
      "text/plain": [
       "        user_id  program_id  shipped_orders   order_id  quantity  \\\n",
       "count 167951.00   167951.00       167951.00  167951.00 167951.00   \n",
       "mean  583968.44 31077299.53            2.09 2629553.45      4.83   \n",
       "std   103588.66   141091.36            4.05  373400.52      8.99   \n",
       "min      326.00 30665814.00            1.00 1479853.00      1.00   \n",
       "25%   516345.50 30958934.50            1.00 2320212.50      1.00   \n",
       "50%   588120.00 31067309.00            1.00 2586982.00      2.00   \n",
       "75%   663581.00 31183371.00            1.00 2881227.00      4.00   \n",
       "max   743701.00 31358981.00          100.00 3437050.00    290.00   \n",
       "\n",
       "       order_revenue  discount_amount      cogs  overhead  \\\n",
       "count      167951.00         84916.00 167951.00 164930.00   \n",
       "mean           79.55           -14.10    -53.33    -17.59   \n",
       "std            65.95            13.32     47.65      7.72   \n",
       "min             0.99          -553.89  -1616.88   -294.24   \n",
       "25%            35.98           -17.39    -67.80    -18.28   \n",
       "50%            63.48           -10.30    -42.40    -13.84   \n",
       "75%            99.94            -5.95    -22.30    -13.16   \n",
       "max          2213.58            -0.10     -0.54     -3.88   \n",
       "\n",
       "       clv_profit_1_year_x                ...                 \\\n",
       "count            167824.00                ...                  \n",
       "mean                 34.29                ...                  \n",
       "std                 114.61                ...                  \n",
       "min               -1473.52                ...                  \n",
       "25%                   1.09                ...                  \n",
       "50%                   9.78                ...                  \n",
       "75%                  33.12                ...                  \n",
       "max               26912.44                ...                  \n",
       "\n",
       "       clv_profit_2_year  clv_profit_3_year  clv_profit_10_year_y  \\\n",
       "count          167824.00          167824.00             167824.00   \n",
       "mean               52.60              66.73                124.87   \n",
       "std               208.30             280.74                582.30   \n",
       "min             -2474.92           -3644.42              -8188.08   \n",
       "25%                 1.40               1.56                  2.10   \n",
       "50%                10.68              11.18                 12.59   \n",
       "75%                40.76              45.21                 58.44   \n",
       "max             55962.85           78312.61             165160.38   \n",
       "\n",
       "       profit_next_1_year  profit_next_2_year  profit_next_3_year  \\\n",
       "count           167951.00           167951.00           167951.00   \n",
       "mean                14.50               26.29               36.38   \n",
       "std                 79.55              143.12              196.93   \n",
       "min              -1034.73            -1889.25            -2624.83   \n",
       "25%                  0.02                0.03                0.05   \n",
       "50%                  0.16                0.29                0.39   \n",
       "75%                  1.82                3.29                4.55   \n",
       "max              23473.16            41912.50            57335.92   \n",
       "\n",
       "       profit_next_10_year  action_by  credit_balance  \\\n",
       "count            167951.00  167951.00        11593.00   \n",
       "mean                 84.84       0.00            4.33   \n",
       "std                 451.57       0.00           46.02   \n",
       "min               -6181.97       0.00          -14.92   \n",
       "25%                   0.11       0.00            0.00   \n",
       "50%                   0.90       0.00            0.00   \n",
       "75%                  10.45       0.00            0.00   \n",
       "max              128760.82       0.00         4687.48   \n",
       "\n",
       "       default_shipping_days_in_transit  \n",
       "count                         166236.00  \n",
       "mean                               2.01  \n",
       "std                                0.83  \n",
       "min                                1.00  \n",
       "25%                                1.00  \n",
       "50%                                2.00  \n",
       "75%                                3.00  \n",
       "max                                5.00  \n",
       "\n",
       "[8 rows x 51 columns]"
      ]
     },
     "execution_count": 7,
     "metadata": {},
     "output_type": "execute_result"
    }
   ],
   "source": [
    "#Creating this so I have only information I would have after first purchase\n",
    "nc = df[df.new_customer == 't']\n",
    "nc.describe()"
   ]
  },
  {
   "cell_type": "markdown",
   "metadata": {},
   "source": [
    "## Exploration Summary"
   ]
  },
  {
   "cell_type": "markdown",
   "metadata": {},
   "source": [
    "The goal of this project is to find better ways to predict customer lifetime value (CLV) at the earlier point possible in a customer's purchase lifetime. Today, it takes 3-4 months to get an accurate picture of total CLV for non-subscription customers and 6-9 months to have accurate CLV predictions for subscription (Auto-Ship, or AS) customers.\n",
    "\n",
    "The below analysis show that two core components, purchase frequency and basket composition, are key drivers of CLV. However, much of what determines a customer's actual value is whether or not they repurchase, and that largely depends on the utility of the service for these customers."
   ]
  },
  {
   "cell_type": "code",
   "execution_count": 8,
   "metadata": {
    "collapsed": false
   },
   "outputs": [
    {
     "name": "stdout",
     "output_type": "stream",
     "text": [
      "<class 'pandas.core.frame.DataFrame'>\n",
      "RangeIndex: 371843 entries, 0 to 371842\n",
      "Data columns (total 4 columns):\n",
      "user_id                 371843 non-null int64\n",
      "clv_profit_10_year      206311 non-null float64\n",
      "most_purchased_brand    206664 non-null object\n",
      "min_active_interval     371843 non-null int64\n",
      "dtypes: float64(1), int64(2), object(1)\n",
      "memory usage: 11.3+ MB\n"
     ]
    }
   ],
   "source": [
    "fp.info()"
   ]
  },
  {
   "cell_type": "code",
   "execution_count": 9,
   "metadata": {
    "collapsed": false
   },
   "outputs": [],
   "source": [
    "fp = fp.dropna(subset = ['user_id','clv_profit_10_year','most_purchased_brand'])\n",
    "\n",
    "clv_by_int = pd.crosstab(index = fp.most_purchased_brand, columns = fp.min_active_interval, values = fp.clv_profit_10_year, aggfunc = 'mean', margins = True)\n",
    "dropped = clv_by_int.dropna()\n"
   ]
  },
  {
   "cell_type": "markdown",
   "metadata": {},
   "source": [
    "### Purchase Frequency - Shorter Subcription Interval Correlates w/ Higher CLV"
   ]
  },
  {
   "cell_type": "markdown",
   "metadata": {
    "collapsed": true
   },
   "source": [
    "The violin plot below shows the shape of CLV's at different intervals. Each number is the number of days at which deliveries are schedules, ranging from 14 days (2 weeks) to 112 days (16 weeks). Non-subscription programs are represented by a 0.\n",
    "\n",
    "Looking only at non-null intervals, we see two things. First, the median and mean are higher for lower intervals, suggesting that frequency of shipments correlates with higher CLV. Second, the shorter the interval, the wider the variance, meaning that they have much more potential to be great OR bad customers.\n",
    "\n",
    "This seems to support the hypothesis that understanding frequency is important for predicting CLV."
   ]
  },
  {
   "cell_type": "code",
   "execution_count": 10,
   "metadata": {
    "collapsed": false
   },
   "outputs": [
    {
     "name": "stderr",
     "output_type": "stream",
     "text": [
      "C:\\Users\\Justin\\Anaconda2\\lib\\site-packages\\seaborn\\categorical.py:2296: UserWarning: The violinplot API has been changed. Attempting to adjust your arguments for the new API (which might not work). Please update your code. See the version 0.6 release notes for more info.\n",
      "  warnings.warn(msg, UserWarning)\n"
     ]
    },
    {
     "data": {
      "text/plain": [
       "<matplotlib.axes._subplots.AxesSubplot at 0x217303c8>"
      ]
     },
     "execution_count": 10,
     "metadata": {},
     "output_type": "execute_result"
    },
    {
     "data": {
      "image/png": "[encoded data removed]",
      "text/plain": [
       "<matplotlib.figure.Figure at 0x21730198>"
      ]
     },
     "metadata": {},
     "output_type": "display_data"
    }
   ],
   "source": [
    "sns.violinplot(dropped)"
   ]
  },
  {
   "cell_type": "markdown",
   "metadata": {},
   "source": [
    "### CLV Distribution by Brand - Cart Composition Affects CLV"
   ]
  },
  {
   "cell_type": "markdown",
   "metadata": {},
   "source": [
    "Below is a violin plot of average CLV/customer by Brand. The brand is determined in this case by the most purchased brand in a customer's lifetime, based on the total percentage of revenue that brand comprises in cart. This has historically been one of the better indicators of \"good\" and \"bad\" customers, and we can see that there is a significant group of brands that have much higher associated CLV's that the rest.\n",
    "\n",
    "But there is also very high variance within many other factors also exist within each cart as predictors (such as purchasing multiple categories, overall AOV, and where in the US we're shipping product, as that can turn a typically \"good\" cart profit."
   ]
  },
  {
   "cell_type": "code",
   "execution_count": 11,
   "metadata": {
    "collapsed": false
   },
   "outputs": [
    {
     "data": {
      "text/plain": [
       "<matplotlib.axes._subplots.AxesSubplot at 0x3088a1d0>"
      ]
     },
     "execution_count": 11,
     "metadata": {},
     "output_type": "execute_result"
    },
    {
     "data": {
      "image/png": "[encoded data removed]",
      "text/plain": [
       "<matplotlib.figure.Figure at 0x1fa9a908>"
      ]
     },
     "metadata": {},
     "output_type": "display_data"
    }
   ],
   "source": [
    "sns.violinplot(data = dropped['All'])"
   ]
  },
  {
   "cell_type": "markdown",
   "metadata": {},
   "source": [
    "The violin plot below shows the relationship between CLV and estimated time in transit. Each has a relatively similar mean (close to zero), but decreasing variance as time in transit lengthens. This speaks to 3 things.\n",
    "\n",
    "First, there is an overall trend in profitability based on geography--shorter transit times allow for a broader distribution of CLV values in both positive and negative directions, but the distribution skews positive.\n",
    "\n",
    "Second, each mean and median is near 0, which means the majority of CLV's are very low, and the burden of profitability lies amongst the positive outliers.\n",
    "\n",
    "Third, there seems to be lots of noise in this data, and I might need to find a better way to group or identify high-potential customers than a simple regression. I'm not sure how, but the box plot below this especially concerning, given that all significantly positive OR negative customers are technically defined as outliers.\n",
    "\n",
    "This makes me think that I might need to try to shift to a classification model that identifies tiers of customer potential and identifies customers with potential. This would allow for further marketing efforts to optimize customer value."
   ]
  },
  {
   "cell_type": "code",
   "execution_count": 12,
   "metadata": {
    "collapsed": false
   },
   "outputs": [
    {
     "name": "stdout",
     "output_type": "stream",
     "text": [
      "Axes(0.125,0.125;0.775x0.775)\n"
     ]
    },
    {
     "data": {
      "image/png": "[encoded data removed]",
      "text/plain": [
       "<matplotlib.figure.Figure at 0x170257f0>"
      ]
     },
     "metadata": {},
     "output_type": "display_data"
    }
   ],
   "source": [
    "clv_by_dfz = pd.crosstab(index = nc.clv_profit_10_year_y, columns = nc.default_shipping_days_in_transit, values = nc.clv_profit_10_year_y, aggfunc = 'mean', margins = True)\n",
    "dfz = clv_by_dfz.dropna()\n",
    "print sns.violinplot(data = dfz);\n"
   ]
  },
  {
   "cell_type": "code",
   "execution_count": 13,
   "metadata": {
    "collapsed": false
   },
   "outputs": [
    {
     "data": {
      "text/plain": [
       "<matplotlib.axes._subplots.AxesSubplot at 0x3647ef28>"
      ]
     },
     "execution_count": 13,
     "metadata": {},
     "output_type": "execute_result"
    },
    {
     "data": {
      "image/png": "[encoded data removed]",
      "text/plain": [
       "<matplotlib.figure.Figure at 0x36b71da0>"
      ]
     },
     "metadata": {},
     "output_type": "display_data"
    }
   ],
   "source": [
    "clv_by_dfz = pd.crosstab(index = nc.clv_profit_10_year_y, columns = nc.default_shipping_days_in_transit, values = nc.clv_profit_10_year_y, aggfunc = 'mean', margins = True)\n",
    "dfz = clv_by_dfz.dropna()\n",
    "sns.violinplot(data = dfz)"
   ]
  },
  {
   "cell_type": "code",
   "execution_count": 14,
   "metadata": {
    "collapsed": false
   },
   "outputs": [
    {
     "name": "stdout",
     "output_type": "stream",
     "text": [
      "Axes(0.125,0.125;0.775x0.775)\n"
     ]
    },
    {
     "data": {
      "image/png": "[encoded data removed]",
      "text/plain": [
       "<matplotlib.figure.Figure at 0x213b15f8>"
      ]
     },
     "metadata": {},
     "output_type": "display_data"
    }
   ],
   "source": [
    "print sns.boxplot(x=nc.default_shipping_days_in_transit, y=nc.clv_profit_10_year_x, data = nc);"
   ]
  }
 ],
 "metadata": {
  "kernelspec": {
   "display_name": "Python 2",
   "language": "python",
   "name": "python2"
  },
  "language_info": {
   "codemirror_mode": {
    "name": "ipython",
    "version": 2
   },
   "file_extension": ".py",
   "mimetype": "text/x-python",
   "name": "python",
   "nbconvert_exporter": "python",
   "pygments_lexer": "ipython2",
   "version": "2.7.12"
  },
  "widgets": {
   "state": {},
   "version": "1.1.2"
  }
 },
 "nbformat": 4,
 "nbformat_minor": 0
}
